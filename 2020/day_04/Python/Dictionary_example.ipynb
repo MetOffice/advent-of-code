{
 "cells": [
  {
   "cell_type": "markdown",
   "metadata": {},
   "source": [
    "## Solving day 4 of Advent of Code 2020 using dictionaries"
   ]
  },
  {
   "cell_type": "markdown",
   "metadata": {},
   "source": [
    "Wee bit of house keeping to get the data loader.  Need to edit the loader a little to work around lack of `__main__.__file__` when running in a notebook:"
   ]
  },
  {
   "cell_type": "code",
   "execution_count": 1,
   "metadata": {},
   "outputs": [],
   "source": [
    "# %load ../../common/loaders.py\n",
    "import os\n",
    "import __main__\n",
    "\n",
    "\n",
    "def load_string():\n",
    "    \"\"\"\n",
    "    Returns each line from the input file\n",
    "\n",
    "    Returns\n",
    "    -------\n",
    "    : list of strings\n",
    "        Each line from the index file\n",
    "    \"\"\"\n",
    "    filepath = os.path.join(\"..\", \"input.txt\")  # This is the edited line for the notebook\n",
    "    with open(filepath) as file_handle:\n",
    "        contents = file_handle.readlines()\n",
    "    return [line.strip() for line in contents]"
   ]
  },
  {
   "cell_type": "markdown",
   "metadata": {},
   "source": [
    "Quick look at the first 10 lines of the data to check the load:"
   ]
  },
  {
   "cell_type": "code",
   "execution_count": 2,
   "metadata": {},
   "outputs": [
    {
     "data": {
      "text/plain": [
       "['byr:2024 iyr:2016',\n",
       " 'eyr:2034 ecl:zzz pid:985592671 hcl:033b48',\n",
       " 'hgt:181 cid:166',\n",
       " '',\n",
       " 'hgt:66cm',\n",
       " 'pid:152cm',\n",
       " 'hcl:cfb18a eyr:1947',\n",
       " 'byr:2020 ecl:zzz iyr:2029',\n",
       " '',\n",
       " 'ecl:gry hcl:#888785 eyr:2023 cid:63']"
      ]
     },
     "execution_count": 2,
     "metadata": {},
     "output_type": "execute_result"
    }
   ],
   "source": [
    "data = load_string()\n",
    "data[:10]"
   ]
  },
  {
   "cell_type": "markdown",
   "metadata": {},
   "source": [
    "That looks as expected, so on to processing the data\n",
    "\n",
    "### Part 1\n",
    "\n",
    "Requirement here is to:\n",
    "\n",
    "1. Parse the input data to extract passport information (passports separated by blank lines, within a passport whitespace separates individual fields, fields within a passport are key:value pairs with a colon to separate key from value).\n",
    "2. Count number of valid passports, where passport is valid if it contains all these keys: byr, iyr, eyr, hgt, hcl, ecl, pid.\n",
    "\n",
    "First, we'll set up a function to convert the data into a list of dicts:"
   ]
  },
  {
   "cell_type": "code",
   "execution_count": 3,
   "metadata": {},
   "outputs": [],
   "source": [
    "def generate_passports(data):\n",
    "    \"\"\"\n",
    "    Converts data into a list of dicts.  \n",
    "\n",
    "    Each dict represents a single passport.  Passports are delineated in the\n",
    "    data by a blank line.\n",
    "\n",
    "    \"\"\"\n",
    "    passports = []\n",
    "    passport = {}\n",
    "    for line in data:\n",
    "        if not line:  # Relies on \"\" (i.e. blank line) evaluating to False\n",
    "            passports.append(passport)\n",
    "            passport = {}\n",
    "            continue\n",
    "        for pairs in line.split():\n",
    "            items = pairs.split(':')\n",
    "            passport[items[0]] = items[1]\n",
    "    passports.append(passport)  # Need to include last passport since input\n",
    "                                # doesn't have a blank line at the end\n",
    "    return passports"
   ]
  },
  {
   "cell_type": "markdown",
   "metadata": {},
   "source": [
    "A quick test that generate_passports works roughly as expected using examples from the instructions:"
   ]
  },
  {
   "cell_type": "code",
   "execution_count": 4,
   "metadata": {},
   "outputs": [
    {
     "name": "stdout",
     "output_type": "stream",
     "text": [
      "[{'byr': '1937',\n",
      "  'cid': '147',\n",
      "  'ecl': 'gry',\n",
      "  'eyr': '2020',\n",
      "  'hcl': '#fffffd',\n",
      "  'hgt': '183cm',\n",
      "  'iyr': '2017',\n",
      "  'pid': '860033327'},\n",
      " {'byr': '1929',\n",
      "  'cid': '350',\n",
      "  'ecl': 'amb',\n",
      "  'eyr': '2023',\n",
      "  'hcl': '#cfa07d',\n",
      "  'iyr': '2013',\n",
      "  'pid': '028048884'}]\n"
     ]
    }
   ],
   "source": [
    "test_data = [\"ecl:gry pid:860033327 eyr:2020 hcl:#fffffd\",\n",
    "        \"byr:1937 iyr:2017 cid:147 hgt:183cm\",\n",
    "        \"\",\n",
    "        \"iyr:2013 ecl:amb cid:350 eyr:2023 pid:028048884\",\n",
    "        \"hcl:#cfa07d byr:1929\",]\n",
    "test_result = generate_passports(test_data)\n",
    "\n",
    "import pprint\n",
    "pprint.pprint(test_result)"
   ]
  },
  {
   "cell_type": "markdown",
   "metadata": {},
   "source": [
    "Now need to define a function to validate a single passport:"
   ]
  },
  {
   "cell_type": "code",
   "execution_count": 5,
   "metadata": {},
   "outputs": [],
   "source": [
    "def is_valid_passport(passport):\n",
    "    \"\"\"Returns True for valid passport, False otherwise.\n",
    "\n",
    "    Valid passport defined as including the following keys:\n",
    "    byr (Birth Year)\n",
    "    iyr (Issue Year)\n",
    "    eyr (Expiration Year)\n",
    "    hgt (Height)\n",
    "    hcl (Hair Color)\n",
    "    ecl (Eye Color)\n",
    "    pid (Passport ID)\n",
    "\n",
    "    \"\"\"\n",
    "    required_keys = (\"byr\", \"iyr\", \"eyr\", \"hgt\", \"hcl\", \"ecl\", \"pid\")\n",
    "    result = True\n",
    "    for key in required_keys:\n",
    "        if key not in passport.keys():\n",
    "            result = False\n",
    "    return result"
   ]
  },
  {
   "cell_type": "markdown",
   "metadata": {},
   "source": [
    "Verify with the test data.  From instructions, the first test data\n",
    "passport is valid while the second is not:\n"
   ]
  },
  {
   "cell_type": "code",
   "execution_count": 6,
   "metadata": {},
   "outputs": [
    {
     "data": {
      "text/plain": [
       "[True, False]"
      ]
     },
     "execution_count": 6,
     "metadata": {},
     "output_type": "execute_result"
    }
   ],
   "source": [
    "[is_valid_passport(passport) for passport in test_result]"
   ]
  },
  {
   "cell_type": "markdown",
   "metadata": {},
   "source": [
    "Now run on full set of passports.  Note we only want the total number of valid\n",
    "passports.  Hence, use a listcomp to filter all passports down to a list of just valid passports, and the length of this resulting list is the count of valid passports:\n"
   ]
  },
  {
   "cell_type": "code",
   "execution_count": 7,
   "metadata": {},
   "outputs": [
    {
     "data": {
      "text/plain": [
       "247"
      ]
     },
     "execution_count": 7,
     "metadata": {},
     "output_type": "execute_result"
    }
   ],
   "source": [
    "passports = generate_passports(data)\n",
    "len([passport for passport in passports if is_valid_passport(passport)])"
   ]
  },
  {
   "cell_type": "markdown",
   "metadata": {},
   "source": [
    "### Part 2"
   ]
  },
  {
   "cell_type": "markdown",
   "metadata": {},
   "source": [
    "This has a different validation - needs quite a bit more code.  The requirements are listed in the docstring for `is_valid_passport_part2`:\n"
   ]
  },
  {
   "cell_type": "code",
   "execution_count": 8,
   "metadata": {},
   "outputs": [],
   "source": [
    "import re\n",
    "\n",
    "def is_in_range(number, minimum, maximum):\n",
    "    \"\"\"Returns true if number is between minimum and maximum, inclusive.\"\"\"\n",
    "    try:\n",
    "        result = minimum <= int(number) <= maximum\n",
    "    except ValueError:\n",
    "        result = False\n",
    "    return result\n",
    "\n",
    "def is_valid_hcl(hcl):\n",
    "    \"\"\"Returns true if hair colour is valid.\n",
    "    \n",
    "    Hair colour is valid if it is: \"# followed by 6 characters, 0 to 9 or a to f\"\n",
    "    \"\"\"\n",
    "    result = True\n",
    "    if len(hcl) != 7:\n",
    "        result = False\n",
    "    if hcl.startswith(\"#\") is False:\n",
    "        result = False\n",
    "    if hcl[1:].isalnum is False:\n",
    "        # This check is that all characters are letters or digits...\n",
    "        result = False\n",
    "    if re.search(r'g-z', hcl[1:]):\n",
    "        # ... and this check is that the letters g to z aren't in the hcl.\n",
    "        # Assumption here that there's no upper case letters in the hcl\n",
    "        result = False\n",
    "    return result\n",
    "\n",
    "def is_valid_pid(pid):\n",
    "    \"\"\"Returns true if passport ID is valid.\n",
    "    \n",
    "    passport ID is valid if it is a 9 digit number including leading zeroes.\"\"\"\n",
    "    # Avoid leading zeroes question since pid is still a string at this point - might be\n",
    "    # something to enforce w/ type hinting?\n",
    "    result = True\n",
    "    if len(pid) != 9:\n",
    "        result = False\n",
    "    if pid.isdecimal is False:\n",
    "        result = False\n",
    "    return result\n",
    "\n",
    "def is_valid_passport_part2(passport):\n",
    "    \"\"\"Returns True for valid passport, False otherwise.\n",
    "\n",
    "    Valid passport defined as including the following keys and values:\n",
    "    byr (Birth Year) 1920 to 2002\n",
    "    iyr (Issue Year) 2010 to 2020\n",
    "    eyr (Expiration Year) 2020 to 2030\n",
    "    hgt (Height) 150 to 193cm or 59 to 76in\n",
    "    hcl (Hair Color) # followed by 6 characters, 0 to 9 or a to f\n",
    "    ecl (Eye Color) exactly one of: amb blu brn gry grn hzl oth\n",
    "    pid (Passport ID) 9 digit number, including leading zeroes\n",
    "\n",
    "    \"\"\"\n",
    "    valid_ecls = ('amb', 'blu', 'brn', 'gry', 'grn', 'hzl', 'oth')\n",
    "    try:\n",
    "        result = is_in_range(passport['byr'], 1920, 2002)\n",
    "        result = result and is_in_range(passport['iyr'], 2010, 2020)\n",
    "        result = result and is_in_range(passport['eyr'], 2020, 2030)\n",
    "        # Height needs a little more processing for the units:\n",
    "        height = passport['hgt']\n",
    "        min_height = 150\n",
    "        max_height = 193\n",
    "        if height[-2:] == 'in':\n",
    "            min_height = 59\n",
    "            max_height = 76\n",
    "        result = result and is_in_range(height[:-2], min_height, max_height)\n",
    "        result = result and passport['ecl'] in valid_ecls\n",
    "        result = result and is_valid_hcl(passport['hcl'])\n",
    "        pid = passport['pid']\n",
    "        result = result and is_valid_pid(pid)\n",
    "    except KeyError:\n",
    "        # More code in the try...except than is usual.  This lets us abort as \n",
    "        # soon as any required key is missing, rather than proceed with checks \n",
    "        # for validity for the other fields.\n",
    "        result = False\n",
    "\n",
    "    return result"
   ]
  },
  {
   "cell_type": "markdown",
   "metadata": {},
   "source": [
    "2 valid and 2 invalid passport tests from the instructions.  Let's check that the test data loads sensibly:"
   ]
  },
  {
   "cell_type": "code",
   "execution_count": 9,
   "metadata": {},
   "outputs": [
    {
     "name": "stdout",
     "output_type": "stream",
     "text": [
      "[{'byr': '1980',\n",
      "  'ecl': 'grn',\n",
      "  'eyr': '2030',\n",
      "  'hcl': '#623a2f',\n",
      "  'hgt': '74in',\n",
      "  'iyr': '2012',\n",
      "  'pid': '087499704'},\n",
      " {'byr': '1989',\n",
      "  'cid': '129',\n",
      "  'ecl': 'blu',\n",
      "  'eyr': '2029',\n",
      "  'hcl': '#a97842',\n",
      "  'hgt': '165cm',\n",
      "  'iyr': '2014',\n",
      "  'pid': '896056539'},\n",
      " {'byr': '1926',\n",
      "  'cid': '100',\n",
      "  'ecl': 'amb',\n",
      "  'eyr': '1972',\n",
      "  'hcl': '#18171d',\n",
      "  'hgt': '170',\n",
      "  'iyr': '2018',\n",
      "  'pid': '186cm'},\n",
      " {'byr': '1946',\n",
      "  'ecl': 'grn',\n",
      "  'eyr': '1967',\n",
      "  'hcl': '#602927',\n",
      "  'hgt': '170cm',\n",
      "  'iyr': '2019',\n",
      "  'pid': '012533040'}]\n"
     ]
    }
   ],
   "source": [
    "test_data_part2 = [\"pid:087499704 hgt:74in ecl:grn iyr:2012 eyr:2030 byr:1980\",\n",
    "\"hcl:#623a2f\",\n",
    "\"\",\n",
    "\"eyr:2029 ecl:blu cid:129 byr:1989\",\n",
    "\"iyr:2014 pid:896056539 hcl:#a97842 hgt:165cm\",\n",
    "\"\",\n",
    "\"eyr:1972 cid:100\",\n",
    "\"hcl:#18171d ecl:amb hgt:170 pid:186cm iyr:2018 byr:1926\",\n",
    "\"\",\n",
    "\"iyr:2019\",\n",
    "\"hcl:#602927 eyr:1967 hgt:170cm\",\n",
    "\"ecl:grn pid:012533040 byr:1946\",\n",
    "]\n",
    "test_result_part2 = generate_passports(test_data_part2)\n",
    "pprint.pprint(test_result_part2)"
   ]
  },
  {
   "cell_type": "markdown",
   "metadata": {},
   "source": [
    "And then check that the first two are valid and the second two invalid:"
   ]
  },
  {
   "cell_type": "code",
   "execution_count": 10,
   "metadata": {},
   "outputs": [
    {
     "data": {
      "text/plain": [
       "[True, True, False, False]"
      ]
     },
     "execution_count": 10,
     "metadata": {},
     "output_type": "execute_result"
    }
   ],
   "source": [
    "[is_valid_passport_part2(passport) for passport in test_result_part2]"
   ]
  },
  {
   "cell_type": "markdown",
   "metadata": {},
   "source": [
    "And finally get the results with a similar listcomp to part 1:"
   ]
  },
  {
   "cell_type": "code",
   "execution_count": 11,
   "metadata": {},
   "outputs": [
    {
     "data": {
      "text/plain": [
       "145"
      ]
     },
     "execution_count": 11,
     "metadata": {},
     "output_type": "execute_result"
    }
   ],
   "source": [
    "len([passport for passport in passports if is_valid_passport_part2(passport)])"
   ]
  },
  {
   "cell_type": "markdown",
   "metadata": {},
   "source": [
    "And just to finish with a flourish, an f-string with both listcomps embedded:"
   ]
  },
  {
   "cell_type": "code",
   "execution_count": 12,
   "metadata": {},
   "outputs": [
    {
     "name": "stdout",
     "output_type": "stream",
     "text": [
      "Results are 247 for part 1, and 145 for part 2.\n"
     ]
    }
   ],
   "source": [
    "print(\"Results are \"\n",
    "      f\"{len([passport for passport in passports if is_valid_passport(passport)])}\"\n",
    "      \" for part 1, and \"\n",
    "      f\"{len([passport for passport in passports if is_valid_passport_part2(passport)])}\"\n",
    "      \" for part 2.\")"
   ]
  },
  {
   "cell_type": "code",
   "execution_count": null,
   "metadata": {},
   "outputs": [],
   "source": []
  }
 ],
 "metadata": {
  "kernelspec": {
   "display_name": "Python 3",
   "language": "python",
   "name": "python3"
  },
  "language_info": {
   "codemirror_mode": {
    "name": "ipython",
    "version": 3
   },
   "file_extension": ".py",
   "mimetype": "text/x-python",
   "name": "python",
   "nbconvert_exporter": "python",
   "pygments_lexer": "ipython3",
   "version": "3.7.3"
  }
 },
 "nbformat": 4,
 "nbformat_minor": 4
}
