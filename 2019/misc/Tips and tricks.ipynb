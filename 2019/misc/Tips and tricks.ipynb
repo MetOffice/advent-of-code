{
 "cells": [
  {
   "cell_type": "markdown",
   "metadata": {},
   "source": [
    "## Tips and tricks"
   ]
  },
  {
   "cell_type": "markdown",
   "metadata": {},
   "source": [
    "A collection, in no particular order, of useful tricks for jupyter notebooks.\n",
    "\n",
    "### Launching Jupyter"
   ]
  },
  {
   "cell_type": "markdown",
   "metadata": {},
   "source": [
    "`module load scitools` needed on linux.  If someone would like to put windows instructions here, please feel free!\n",
    "\n",
    "`jupyter lab` is preferable to `jupyter notebook`.  More modern interface with more functionality and in active development.  If working on VDI, `jupyter lab --no-browser` and copying and pasting the resulting URL to a windows browser gives a smoother experience.\n",
    "\n",
    "Jupyter lab also enables multiple windows within the browser tab, so enables side by side comparisons."
   ]
  },
  {
   "cell_type": "markdown",
   "metadata": {},
   "source": [
    "### Basic commands\n",
    "\n",
    "+ Evaluate cell with `shift+Enter` or `ctrl+Enter`.\n",
    "+ Delete cell: `Esc, d, d`.\n",
    "+ New cell above: `Esc, a`.\n",
    "+ New cell below: `Esc, b`.\n",
    "+ Switch cell to markdown text rather than python code: `Esc, m`."
   ]
  },
  {
   "cell_type": "markdown",
   "metadata": {},
   "source": [
    "### Help system\n",
    "\n",
    "Postfix with `?` for help.  Or postfix with `??` to see source.  E.g.:"
   ]
  },
  {
   "cell_type": "code",
   "execution_count": 5,
   "metadata": {},
   "outputs": [],
   "source": [
    "def example_function():\n",
    "    '''docstring would be here'''\n",
    "    example_code = 'should do something here'"
   ]
  },
  {
   "cell_type": "code",
   "execution_count": 6,
   "metadata": {},
   "outputs": [
    {
     "data": {
      "text/plain": [
       "\u001b[0;31mSignature:\u001b[0m \u001b[0mexample_function\u001b[0m\u001b[0;34m(\u001b[0m\u001b[0;34m)\u001b[0m\u001b[0;34m\u001b[0m\u001b[0;34m\u001b[0m\u001b[0m\n",
       "\u001b[0;31mDocstring:\u001b[0m docstring would be here\n",
       "\u001b[0;31mFile:\u001b[0m      /net/home/h05/hdyson/Repos/Git/advent-of-code/<ipython-input-5-ff61024e72c4>\n",
       "\u001b[0;31mType:\u001b[0m      function\n"
      ]
     },
     "metadata": {},
     "output_type": "display_data"
    }
   ],
   "source": [
    "example_function?"
   ]
  },
  {
   "cell_type": "code",
   "execution_count": 7,
   "metadata": {},
   "outputs": [
    {
     "data": {
      "text/plain": [
       "\u001b[0;31mSignature:\u001b[0m \u001b[0mexample_function\u001b[0m\u001b[0;34m(\u001b[0m\u001b[0;34m)\u001b[0m\u001b[0;34m\u001b[0m\u001b[0;34m\u001b[0m\u001b[0m\n",
       "\u001b[0;31mSource:\u001b[0m   \n",
       "\u001b[0;32mdef\u001b[0m \u001b[0mexample_function\u001b[0m\u001b[0;34m(\u001b[0m\u001b[0;34m)\u001b[0m\u001b[0;34m:\u001b[0m\u001b[0;34m\u001b[0m\n",
       "\u001b[0;34m\u001b[0m    \u001b[0;34m'''docstring would be here'''\u001b[0m\u001b[0;34m\u001b[0m\n",
       "\u001b[0;34m\u001b[0m    \u001b[0mexample_code\u001b[0m \u001b[0;34m=\u001b[0m \u001b[0;34m'should do something here'\u001b[0m\u001b[0;34m\u001b[0m\u001b[0;34m\u001b[0m\u001b[0m\n",
       "\u001b[0;31mFile:\u001b[0m      /net/home/h05/hdyson/Repos/Git/advent-of-code/<ipython-input-5-ff61024e72c4>\n",
       "\u001b[0;31mType:\u001b[0m      function\n"
      ]
     },
     "metadata": {},
     "output_type": "display_data"
    }
   ],
   "source": [
    "example_function??"
   ]
  },
  {
   "cell_type": "markdown",
   "metadata": {},
   "source": [
    "### Magic commands\n",
    "\n",
    "Commands prefixed with `%` or `%%` are called magic commands - most are common to ipython and jupyter.  Use `%magic` to document and list (output omitted for brevity) - all available commands are listed at end of output.\n",
    "\n",
    "Commands with a single `%` are line magics - operate on the rest of the line.\n",
    "\n",
    "Commands with `%%` are cell magics - operate on rest of cell"
   ]
  },
  {
   "cell_type": "markdown",
   "metadata": {},
   "source": [
    "### Loading data\n",
    "\n",
    "Usual python `import` is available, plus magics `%run` to run code or `%load` to load code (usually more transparent if sharing the notebook with someone else).  `%load?` for help with loading particular lines etc.\n"
   ]
  },
  {
   "cell_type": "markdown",
   "metadata": {},
   "source": [
    "### History\n",
    "\n",
    "Check `history?` for details on how to recall history lines from current and previous sessions.  A"
   ]
  },
  {
   "cell_type": "markdown",
   "metadata": {},
   "source": [
    "### Shell commands\n",
    "\n",
    "Common shell commands (pwd, cd) implemented directly.  For esoteric commands, use `!` prefix.  Can capture output from **shell** command as **python** variable:"
   ]
  },
  {
   "cell_type": "code",
   "execution_count": 11,
   "metadata": {},
   "outputs": [],
   "source": [
    "temp = !whoami"
   ]
  },
  {
   "cell_type": "code",
   "execution_count": 12,
   "metadata": {},
   "outputs": [
    {
     "data": {
      "text/plain": [
       "['hdyson']"
      ]
     },
     "execution_count": 12,
     "metadata": {},
     "output_type": "execute_result"
    }
   ],
   "source": [
    "temp"
   ]
  },
  {
   "cell_type": "markdown",
   "metadata": {},
   "source": [
    "### Exporting code\n",
    "\n",
    "Either from file menu, or to dump full history (including commands before `logstart`):\n",
    "\n",
    "    logstart [-o]  # -o option means include output as python comments\n",
    "    logstop\n",
    "    \n",
    "Note this works in ipython too.  Worth looking at `logstart?` for refining output."
   ]
  },
  {
   "cell_type": "markdown",
   "metadata": {},
   "source": [
    "### Commit best practice\n",
    "Before committing, remove all output with `Kernel->Restart Kernel and Clear All Outputs`.  Otherwise, there's a lot of noise in the diffs."
   ]
  },
  {
   "cell_type": "code",
   "execution_count": null,
   "metadata": {},
   "outputs": [],
   "source": []
  }
 ],
 "metadata": {
  "kernelspec": {
   "display_name": "Python 3",
   "language": "python",
   "name": "python3"
  },
  "language_info": {
   "codemirror_mode": {
    "name": "ipython",
    "version": 3
   },
   "file_extension": ".py",
   "mimetype": "text/x-python",
   "name": "python",
   "nbconvert_exporter": "python",
   "pygments_lexer": "ipython3",
   "version": "3.6.8"
  }
 },
 "nbformat": 4,
 "nbformat_minor": 2
}
