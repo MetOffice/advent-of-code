{
 "cells": [
  {
   "cell_type": "markdown",
   "metadata": {},
   "source": [
    "## Original solution:"
   ]
  },
  {
   "cell_type": "markdown",
   "metadata": {},
   "source": [
    "Slightly edited to allow running in a notebook - `main()` added, and path handling edited to allow finding input file from within notebook"
   ]
  },
  {
   "cell_type": "code",
   "execution_count": 1,
   "metadata": {
    "slideshow": {
     "slide_type": "fragment"
    }
   },
   "outputs": [
    {
     "name": "stdout",
     "output_type": "stream",
     "text": [
      "Part 1:\n",
      "1320\n",
      "Part 2:\n",
      "111   11  1   11  1 111  \n",
      "1  1 1  1 1   11 1  1  1 \n",
      "1  1 1     1 1 11   1  1 \n",
      "111  1      1  1 1  111  \n",
      "1 1  1  1   1  1 1  1 1  \n",
      "1  1  11    1  1  1 1  1 \n",
      "Part 2 using NumPy:\n",
      "  1 1 1       1 1     1       1 1     1   1 1 1     \n",
      "  1     1   1     1   1       1 1   1     1     1   \n",
      "  1     1   1           1   1   1 1       1     1   \n",
      "  1 1 1     1             1     1   1     1 1 1     \n",
      "  1   1     1     1       1     1   1     1   1     \n",
      "  1     1     1 1         1     1     1   1     1    \n"
     ]
    }
   ],
   "source": [
    "# %load ../../../day_08/Python/team_template/part1.py\n",
    "\n",
    "import numpy as np\n",
    "from pathlib import Path\n",
    "\n",
    "from load_input import get_input\n",
    "\n",
    "\n",
    "def get_layers(image_data, layer_size):\n",
    "    layers = []\n",
    "    for starting_index in range(0, len(image_data), layer_size):\n",
    "        layers.append(image_data[starting_index: starting_index + layer_size])\n",
    "\n",
    "    return layers\n",
    "\n",
    "\n",
    "def meaningless_calculation(image_data, width, height):\n",
    "    layer_size = width * height\n",
    "    layers = get_layers(image_data, layer_size)\n",
    "    zero_count = layer_size\n",
    "    zero_index = 0\n",
    "    for index, layer in enumerate(layers):\n",
    "        if layer.count('0') < zero_count:\n",
    "            zero_count = layer.count('0')\n",
    "            zero_index = index\n",
    "    fewest_zeros_layer = layers[zero_index]\n",
    "    return fewest_zeros_layer.count('1') * fewest_zeros_layer.count('2')\n",
    "\n",
    "\n",
    "def decode_image_using_numpy(image_data, width, height):\n",
    "    image_data = image_data.reshape((-1, height, width))\n",
    "    final_image = image_data[0].copy()\n",
    "    number_of_layers = image_data.shape[0]\n",
    "    # So what's going on here?  At this point, we have a 3D array: (depth,\n",
    "    # height, width).  This loop is looping over each depth layer:\n",
    "    for index in range(number_of_layers):\n",
    "        final_image[final_image == 2] = image_data[index][final_image == 2]\n",
    "        # And this is where the work happens.  Let's break it into pieces:\n",
    "        #\n",
    "        # Both sides: [final_image==2] - creates a 2D boolean array of\n",
    "        # (height, width), with values of True where final_image==2, False\n",
    "        # everywhere else.  Note this is regenerated for each layer.  I'm\n",
    "        # deliberately avoiding the term \"mask\" here - a mask has a particular\n",
    "        # meaning in numpy.\n",
    "        #\n",
    "        # LHS: final_image[final_image==2] - this selects only those pixels in\n",
    "        # the final_image that still have value of 2 (i.e. those that are\n",
    "        # still transparent).\n",
    "        #\n",
    "        # RHS part 1: image_data[index] - this slices the current 2D layer out\n",
    "        # of the 3D image_data.  This 2D layer is the same shape as the final\n",
    "        # image (since each layer is the same shape).\n",
    "        #\n",
    "        # RHS part2: image_data[index][final_image==2] - and this selects the\n",
    "        # values in *the layer* where the *final_image* is still transparent,\n",
    "        # relying on them both being the same shape.\n",
    "        #\n",
    "        # Possibly less opaque version:\n",
    "        # current_layer = image_data[index]\n",
    "        # final_image[final_image == 2] = current_layer[final_image == 2]\n",
    "    return final_image\n",
    "\n",
    "\n",
    "def decode_image(image_data, width, height):\n",
    "    layer_size = width * height\n",
    "    layers = get_layers(image_data, layer_size)\n",
    "    final_image = []\n",
    "    for index in range(layer_size):\n",
    "        for layer in layers:\n",
    "            if layer[index] != '2':\n",
    "                final_image.append(layer[index])\n",
    "                break\n",
    "\n",
    "    for index in range(layer_size, 1, -width):\n",
    "        final_image.insert(index, '\\n')\n",
    "    return ''.join(final_image).strip()\n",
    "\n",
    "\n",
    "def part1():\n",
    "    input_ = get_input()\n",
    "    return meaningless_calculation(input_, 25, 6)\n",
    "\n",
    "\n",
    "def part2():\n",
    "    input_ = get_input()\n",
    "    return decode_image(input_, 25, 6).replace('0', ' ')\n",
    "\n",
    "\n",
    "def part2_using_numpy():\n",
    "    try:\n",
    "        input_file = Path(__file__).resolve().parent.parent.parent / \"input.txt\"\n",
    "    except NameError:\n",
    "        input_file = Path('.').resolve().parent.parent / \"input.txt\"        \n",
    "    array = np.genfromtxt(input_file, delimiter=1, dtype=np.int32)\n",
    "    return np.array_str(\n",
    "        decode_image_using_numpy(array, 25, 6)).replace('0', ' ').replace(\n",
    "        '[', ' ').replace(']', ' ')\n",
    "\n",
    "\n",
    "def main():\n",
    "    print(f'Part 1:\\n{part1()}')\n",
    "    print(f'Part 2:\\n{part2()}')\n",
    "    print(f'Part 2 using NumPy:\\n{part2_using_numpy()}')\n",
    "\n",
    "\n",
    "if __name__ == \"__main__\":\n",
    "    main()\n"
   ]
  },
  {
   "cell_type": "code",
   "execution_count": 2,
   "metadata": {},
   "outputs": [
    {
     "name": "stdout",
     "output_type": "stream",
     "text": [
      "628 µs ± 10.9 µs per loop (mean ± std. dev. of 7 runs, 1000 loops each)\n"
     ]
    }
   ],
   "source": [
    "%timeit part2()"
   ]
  },
  {
   "cell_type": "code",
   "execution_count": 3,
   "metadata": {},
   "outputs": [
    {
     "name": "stdout",
     "output_type": "stream",
     "text": [
      "197 ms ± 3.45 ms per loop (mean ± std. dev. of 7 runs, 1 loop each)\n"
     ]
    }
   ],
   "source": [
    "%timeit part2_using_numpy()"
   ]
  },
  {
   "cell_type": "markdown",
   "metadata": {},
   "source": [
    "## Apples to apples comparison\n",
    "\n",
    "Above not apples to apples comparison - numpy version includes loading data and both versions contain string manipulation on output.  Really want to profile just `decode_image` and `decode_image_using_numpy`."
   ]
  },
  {
   "cell_type": "markdown",
   "metadata": {},
   "source": [
    "Redefine `decode_image` and `part2` to get string processing out of `decode_image` (profiled) into `part2` (not profiled - and shown further down):"
   ]
  },
  {
   "cell_type": "code",
   "execution_count": 4,
   "metadata": {},
   "outputs": [],
   "source": [
    "def decode_image(image_data, width, height):\n",
    "    layer_size = width * height\n",
    "    layers = get_layers(image_data, layer_size)\n",
    "    final_image = []\n",
    "    for index in range(layer_size):\n",
    "        for layer in layers:\n",
    "            if layer[index] != '2':\n",
    "                final_image.append(layer[index])\n",
    "                break\n",
    "    return final_image"
   ]
  },
  {
   "cell_type": "markdown",
   "metadata": {},
   "source": [
    "Replicate just enough of `part2` to let us time just the `decode_image` function:"
   ]
  },
  {
   "cell_type": "code",
   "execution_count": 5,
   "metadata": {},
   "outputs": [],
   "source": [
    "input_ = get_input()\n",
    "width=25\n",
    "height=6"
   ]
  },
  {
   "cell_type": "code",
   "execution_count": 6,
   "metadata": {},
   "outputs": [
    {
     "name": "stdout",
     "output_type": "stream",
     "text": [
      "425 µs ± 5.39 µs per loop (mean ± std. dev. of 7 runs, 1000 loops each)\n"
     ]
    }
   ],
   "source": [
    "%timeit decode_image(input_, width, height)"
   ]
  },
  {
   "cell_type": "markdown",
   "metadata": {},
   "source": [
    "Similarly, replicate just enough of `part2_using_numpy` to let us time just the `decode_image_using_numpy` function:"
   ]
  },
  {
   "cell_type": "code",
   "execution_count": 7,
   "metadata": {},
   "outputs": [],
   "source": [
    "input_file = Path('.').resolve().parent.parent / \"input.txt\"        \n",
    "array = np.genfromtxt(input_file, delimiter=1, dtype=np.int32)"
   ]
  },
  {
   "cell_type": "code",
   "execution_count": 8,
   "metadata": {},
   "outputs": [
    {
     "name": "stdout",
     "output_type": "stream",
     "text": [
      "410 µs ± 8.76 µs per loop (mean ± std. dev. of 7 runs, 1000 loops each)\n"
     ]
    }
   ],
   "source": [
    "%timeit decode_image_using_numpy(array, 25, 6)"
   ]
  },
  {
   "cell_type": "markdown",
   "metadata": {},
   "source": [
    "So pure python and numpy methods are roughly the same time?"
   ]
  },
  {
   "cell_type": "markdown",
   "metadata": {},
   "source": [
    "## Line by line detail"
   ]
  },
  {
   "cell_type": "markdown",
   "metadata": {},
   "source": [
    "Need to redefine part2 to fit the new definition of `decode_image` (i.e. extra string processing needs to be here):"
   ]
  },
  {
   "cell_type": "code",
   "execution_count": 9,
   "metadata": {},
   "outputs": [],
   "source": [
    "def part2():\n",
    "    input_ = get_input()\n",
    "    layer_size = 25*6\n",
    "    final_image = decode_image(input_, 25, 6)\n",
    "    for index in range(layer_size, 1, -width):\n",
    "        final_image.insert(index, '\\n')\n",
    "    return ''.join(final_image).strip().replace('0', ' ')"
   ]
  },
  {
   "cell_type": "code",
   "execution_count": 10,
   "metadata": {},
   "outputs": [],
   "source": [
    "%load_ext line_profiler\n",
    "# From pip install line_profiler"
   ]
  },
  {
   "cell_type": "markdown",
   "metadata": {},
   "source": [
    "Following line runs `main()` but only profiles the named functions (i.e. the decode image ones):"
   ]
  },
  {
   "cell_type": "code",
   "execution_count": 11,
   "metadata": {},
   "outputs": [
    {
     "name": "stdout",
     "output_type": "stream",
     "text": [
      "Part 1:\n",
      "1320\n",
      "Part 2:\n",
      "111   11  1   11  1 111  \n",
      "1  1 1  1 1   11 1  1  1 \n",
      "1  1 1     1 1 11   1  1 \n",
      "111  1      1  1 1  111  \n",
      "1 1  1  1   1  1 1  1 1  \n",
      "1  1  11    1  1  1 1  1 \n",
      "Part 2 using NumPy:\n",
      "  1 1 1       1 1     1       1 1     1   1 1 1     \n",
      "  1     1   1     1   1       1 1   1     1     1   \n",
      "  1     1   1           1   1   1 1       1     1   \n",
      "  1 1 1     1             1     1   1     1 1 1     \n",
      "  1   1     1     1       1     1   1     1   1     \n",
      "  1     1     1 1         1     1     1   1     1    \n"
     ]
    },
    {
     "data": {
      "text/plain": [
       "Timer unit: 1e-06 s\n",
       "\n",
       "Total time: 0.000539 s\n",
       "File: <ipython-input-1-f79eda26ec28>\n",
       "Function: decode_image_using_numpy at line 30\n",
       "\n",
       "Line #      Hits         Time  Per Hit   % Time  Line Contents\n",
       "==============================================================\n",
       "    30                                           def decode_image_using_numpy(image_data, width, height):\n",
       "    31         1          7.0      7.0      1.3      image_data = image_data.reshape((-1, height, width))\n",
       "    32         1         10.0     10.0      1.9      final_image = image_data[0].copy()\n",
       "    33         1          2.0      2.0      0.4      number_of_layers = image_data.shape[0]\n",
       "    34                                               # So what's going on here?  At this point, we have a 3D array: (depth,\n",
       "    35                                               # height, width).  This loop is looping over each depth layer:\n",
       "    36       101         41.0      0.4      7.6      for index in range(number_of_layers):\n",
       "    37       100        479.0      4.8     88.9          final_image[final_image == 2] = image_data[index][final_image == 2]\n",
       "    38                                                   # And this is where the work happens.  Let's break it into pieces:\n",
       "    39                                                   #\n",
       "    40                                                   # Both sides: [final_image==2] - creates a 2D boolean array of\n",
       "    41                                                   # (height, width), with values of True where final_image==2, False\n",
       "    42                                                   # everywhere else.  Note this is regenerated for each layer.  I'm\n",
       "    43                                                   # deliberately avoiding the term \"mask\" here - a mask has a particular\n",
       "    44                                                   # meaning in numpy.\n",
       "    45                                                   #\n",
       "    46                                                   # LHS: final_image[final_image==2] - this selects only those pixels in\n",
       "    47                                                   # the final_image that still have value of 2 (i.e. those that are\n",
       "    48                                                   # still transparent).\n",
       "    49                                                   #\n",
       "    50                                                   # RHS part 1: image_data[index] - this slices the current 2D layer out\n",
       "    51                                                   # of the 3D image_data.  This 2D layer is the same shape as the final\n",
       "    52                                                   # image (since each layer is the same shape).\n",
       "    53                                                   #\n",
       "    54                                                   # RHS part2: image_data[index][final_image==2] - and this selects the\n",
       "    55                                                   # values in *the layer* where the *final_image* is still transparent,\n",
       "    56                                                   # relying on them both being the same shape.\n",
       "    57                                                   #\n",
       "    58                                                   # Possibly less opaque version:\n",
       "    59                                                   # current_layer = image_data[index]\n",
       "    60                                                   # final_image[final_image == 2] = current_layer[final_image == 2]\n",
       "    61         1          0.0      0.0      0.0      return final_image\n",
       "\n",
       "Total time: 0.007278 s\n",
       "File: <ipython-input-4-e866f88ab154>\n",
       "Function: decode_image at line 1\n",
       "\n",
       "Line #      Hits         Time  Per Hit   % Time  Line Contents\n",
       "==============================================================\n",
       "     1                                           def decode_image(image_data, width, height):\n",
       "     2         1          6.0      6.0      0.1      layer_size = width * height\n",
       "     3         1         68.0     68.0      0.9      layers = get_layers(image_data, layer_size)\n",
       "     4         1          0.0      0.0      0.0      final_image = []\n",
       "     5       151         53.0      0.4      0.7      for index in range(layer_size):\n",
       "     6      7698       3249.0      0.4     44.6          for layer in layers:\n",
       "     7      7698       3737.0      0.5     51.3              if layer[index] != '2':\n",
       "     8       150        101.0      0.7      1.4                  final_image.append(layer[index])\n",
       "     9       150         63.0      0.4      0.9                  break\n",
       "    10         1          1.0      1.0      0.0      return final_image"
      ]
     },
     "metadata": {},
     "output_type": "display_data"
    }
   ],
   "source": [
    "%lprun -f decode_image -f decode_image_using_numpy main()"
   ]
  },
  {
   "cell_type": "code",
   "execution_count": null,
   "metadata": {},
   "outputs": [],
   "source": []
  }
 ],
 "metadata": {
  "celltoolbar": "Slideshow",
  "kernelspec": {
   "display_name": "Python 3",
   "language": "python",
   "name": "python3"
  },
  "language_info": {
   "codemirror_mode": {
    "name": "ipython",
    "version": 3
   },
   "file_extension": ".py",
   "mimetype": "text/x-python",
   "name": "python",
   "nbconvert_exporter": "python",
   "pygments_lexer": "ipython3",
   "version": "3.7.7"
  }
 },
 "nbformat": 4,
 "nbformat_minor": 4
}
