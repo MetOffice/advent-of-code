{
 "cells": [
  {
   "cell_type": "markdown",
   "metadata": {
    "slideshow": {
     "slide_type": "slide"
    }
   },
   "source": [
    "# Numpy solution\n",
    "## Top level"
   ]
  },
  {
   "cell_type": "code",
   "execution_count": 11,
   "metadata": {
    "slideshow": {
     "slide_type": "fragment"
    }
   },
   "outputs": [],
   "source": [
    "import numpy as np\n",
    "\n",
    "def part2_using_numpy():\n",
    "    input_file = \"./2019/day_08/input.txt\"\n",
    "    array = np.genfromtxt(input_file, delimiter=1, dtype=np.int32)\n",
    "    return np.array_str(\n",
    "        decode_image_using_numpy(array, 25, 6)).replace('0', ' ').replace(\n",
    "        '[', ' ').replace(']', ' ')"
   ]
  },
  {
   "cell_type": "code",
   "execution_count": null,
   "metadata": {
    "slideshow": {
     "slide_type": "fragment"
    }
   },
   "outputs": [],
   "source": [
    "np.genfromtxt(input_file, delimiter=1, dtype=np.int32)"
   ]
  },
  {
   "cell_type": "code",
   "execution_count": null,
   "metadata": {
    "slideshow": {
     "slide_type": "fragment"
    }
   },
   "outputs": [],
   "source": [
    "np.array_str(decode_image_using_numpy(array, 25, 6))"
   ]
  },
  {
   "cell_type": "markdown",
   "metadata": {
    "slideshow": {
     "slide_type": "notes"
    }
   },
   "source": [
    " + `np.genfromtxt` used to read in data as fixed width data of width 1 (`delimiter=1`) - neat trick for a function more commonly used for csv data.\n",
    " + `np.array_str` converts output from numpy array to something easier to read."
   ]
  },
  {
   "cell_type": "markdown",
   "metadata": {
    "slideshow": {
     "slide_type": "slide"
    }
   },
   "source": [
    "## Details\n",
    "\n",
    "Numpy solution:"
   ]
  },
  {
   "cell_type": "code",
   "execution_count": 5,
   "metadata": {
    "slideshow": {
     "slide_type": "fragment"
    }
   },
   "outputs": [],
   "source": [
    "def decode_image_using_numpy(image_data, width, height):\n",
    "    image_data = image_data.reshape((-1, height, width))\n",
    "    final_image = image_data[0].copy()\n",
    "    number_of_layers = image_data.shape[0]\n",
    "    for index in range(number_of_layers):\n",
    "        final_image[final_image == 2] = image_data[index][final_image == 2]\n",
    "    return final_image"
   ]
  },
  {
   "cell_type": "code",
   "execution_count": null,
   "metadata": {
    "slideshow": {
     "slide_type": "fragment"
    }
   },
   "outputs": [],
   "source": [
    "image_data = image_data.reshape((-1, height, width))"
   ]
  },
  {
   "cell_type": "code",
   "execution_count": null,
   "metadata": {
    "slideshow": {
     "slide_type": "fragment"
    }
   },
   "outputs": [],
   "source": [
    "final_image = image_data[0].copy()"
   ]
  },
  {
   "cell_type": "code",
   "execution_count": null,
   "metadata": {
    "slideshow": {
     "slide_type": "fragment"
    }
   },
   "outputs": [],
   "source": [
    "for index in range(number_of_layers):\n",
    "    final_image[final_image == 2] = image_data[index][final_image == 2]"
   ]
  },
  {
   "cell_type": "markdown",
   "metadata": {
    "slideshow": {
     "slide_type": "notes"
    }
   },
   "source": [
    "`image_data = image_data.reshape((-1, ...))` - Manipulate array into N layers of known width and height; -1 means whatever value makes the other parameters work.\n",
    "\n",
    "`final_image = image_data[0].copy()` - Only want single layer for final image.  Copy to preserve original.\n",
    "\n",
    "`number_of_layers = image_data.shape[0]` - need to know N for loop:"
   ]
  },
  {
   "cell_type": "code",
   "execution_count": null,
   "metadata": {
    "slideshow": {
     "slide_type": "notes"
    }
   },
   "outputs": [],
   "source": [
    "    for index in range(number_of_layers):\n",
    "        final_image[final_image == 2] = image_data[index][final_image == 2]"
   ]
  },
  {
   "cell_type": "markdown",
   "metadata": {
    "slideshow": {
     "slide_type": "notes"
    }
   },
   "source": [
    "For each layer in the image data, find the pixels in the final image that are still transparent (`final_image == 2`), and fill them with values from the current layer (`image_data[index]`)."
   ]
  },
  {
   "cell_type": "markdown",
   "metadata": {
    "slideshow": {
     "slide_type": "slide"
    }
   },
   "source": [
    "## Readable version"
   ]
  },
  {
   "cell_type": "markdown",
   "metadata": {
    "slideshow": {
     "slide_type": "-"
    }
   },
   "source": [
    "Original:"
   ]
  },
  {
   "cell_type": "code",
   "execution_count": null,
   "metadata": {},
   "outputs": [],
   "source": [
    "    for index in range(number_of_layers):\n",
    "        final_image[final_image == 2] = image_data[index][final_image == 2]"
   ]
  },
  {
   "cell_type": "markdown",
   "metadata": {
    "slideshow": {
     "slide_type": "-"
    }
   },
   "source": [
    "Which is equivalent to:"
   ]
  },
  {
   "cell_type": "code",
   "execution_count": null,
   "metadata": {
    "slideshow": {
     "slide_type": "-"
    }
   },
   "outputs": [],
   "source": [
    "    for index in range(number_of_layers):\n",
    "        tranparent_pixels_in_final_image = final_image == 2\n",
    "        layer = image_data[index]\n",
    "        final_image[transparent_pixels_in_final_image] = layer[transparent_pixels_in_final_image]"
   ]
  },
  {
   "cell_type": "markdown",
   "metadata": {
    "slideshow": {
     "slide_type": "slide"
    }
   },
   "source": [
    "## Commentary on the loop for people learning numpy:\n",
    "\n",
    "https://github.com/MetOffice/advent-of-code/blob/master/2019/day_08/Python/team_template/part1.py#L28"
   ]
  },
  {
   "cell_type": "code",
   "execution_count": 13,
   "metadata": {
    "slideshow": {
     "slide_type": "fragment"
    }
   },
   "outputs": [],
   "source": [
    "def decode_image_using_numpy(image_data, width, height):\n",
    "    image_data = image_data.reshape((-1, height, width))\n",
    "    final_image = image_data[0].copy()\n",
    "    number_of_layers = image_data.shape[0]\n",
    "    # So what's going on here?  At this point, we have a 3D array: (depth,\n",
    "    # height, width).  This loop is looping over each depth layer:\n",
    "    for index in range(number_of_layers):\n",
    "        final_image[final_image == 2] = image_data[index][final_image == 2]\n",
    "        # And this is where the work happens.  Let's break it into pieces:\n",
    "        #\n",
    "        # Both sides: [final_image==2] - creates a 2D boolean array of\n",
    "        # (height, width), with values of True where final_image==2, False\n",
    "        # everywhere else.  Note this is regenerated for each layer.  I'm\n",
    "        # deliberately avoiding the term \"mask\" here - a mask has a particular\n",
    "        # meaning in numpy.\n",
    "        #\n",
    "        # LHS: final_image[final_image==2] - this selects only those pixels in\n",
    "        # the final_image that still have value of 2 (i.e. those that are\n",
    "        # still transparent).\n",
    "        #\n",
    "        # RHS part 1: image_data[index] - this slices the current 2D layer out\n",
    "        # of the 3D image_data.  This 2D layer is the same shape as the final\n",
    "        # image (since each layer is the same shape).\n",
    "        #\n",
    "        # RHS part2: image_data[index][final_image==2] - and this selects the\n",
    "        # values in *the layer* where the *final_image* is still transparent,\n",
    "        # relying on them both being the same shape.\n",
    "        #\n",
    "        # Possibly less opaque version:\n",
    "        # current_layer = image_data[index]\n",
    "        # final_image[final_image == 2] = current_layer[final_image == 2]\n",
    "    return final_image"
   ]
  },
  {
   "cell_type": "markdown",
   "metadata": {
    "slideshow": {
     "slide_type": "slide"
    }
   },
   "source": [
    "## Result"
   ]
  },
  {
   "cell_type": "code",
   "execution_count": 15,
   "metadata": {
    "slideshow": {
     "slide_type": "fragment"
    }
   },
   "outputs": [
    {
     "name": "stdout",
     "output_type": "stream",
     "text": [
      "Part 1:\n",
      "1320\n",
      "Part 2:\n",
      "111   11  1   11  1 111  \n",
      "1  1 1  1 1   11 1  1  1 \n",
      "1  1 1     1 1 11   1  1 \n",
      "111  1      1  1 1  111  \n",
      "1 1  1  1   1  1 1  1 1  \n",
      "1  1  11    1  1  1 1  1 \n",
      "Part 2 using NumPy:\n",
      "  1 1 1       1 1     1       1 1     1   1 1 1     \n",
      "  1     1   1     1   1       1 1   1     1     1   \n",
      "  1     1   1           1   1   1 1       1     1   \n",
      "  1 1 1     1             1     1   1     1 1 1     \n",
      "  1   1     1     1       1     1   1     1   1     \n",
      "  1     1     1 1         1     1     1   1     1    \n"
     ]
    }
   ],
   "source": [
    "%run ./2019/day_08/Python/team_template/part1.py"
   ]
  },
  {
   "cell_type": "markdown",
   "metadata": {
    "slideshow": {
     "slide_type": "notes"
    }
   },
   "source": [
    "# To generate slides version:\n",
    "\n",
    "    jupyter nbconvert NumpyPresentation.ipynb --to slides --reveal-prefix https://cdnjs.cloudflare.com/ajax/libs/reveal.js/3.6.0\n",
    "\n",
    "(May work with more recent version of reveal.js - not tried).\n",
    "\n",
    "Need to mark cell types for each cell in cell inspector (on left, in jupyter lab; or via view->cell toolbar in jupyter notebook)."
   ]
  }
 ],
 "metadata": {
  "celltoolbar": "Slideshow",
  "kernelspec": {
   "display_name": "Python 3",
   "language": "python",
   "name": "python3"
  },
  "language_info": {
   "codemirror_mode": {
    "name": "ipython",
    "version": 3
   },
   "file_extension": ".py",
   "mimetype": "text/x-python",
   "name": "python",
   "nbconvert_exporter": "python",
   "pygments_lexer": "ipython3",
   "version": "3.6.8"
  }
 },
 "nbformat": 4,
 "nbformat_minor": 2
}
